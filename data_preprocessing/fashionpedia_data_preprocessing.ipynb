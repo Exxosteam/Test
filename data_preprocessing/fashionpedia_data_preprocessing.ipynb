{
 "cells": [
  {
   "cell_type": "code",
   "execution_count": 1,
   "metadata": {},
   "outputs": [
    {
     "name": "stderr",
     "output_type": "stream",
     "text": [
      "C:\\Users\\MICHEAL\\anaconda3\\lib\\site-packages\\pandas\\core\\computation\\expressions.py:20: UserWarning: Pandas requires version '2.7.3' or newer of 'numexpr' (version '2.7.1' currently installed).\n",
      "  from pandas.core.computation.check import NUMEXPR_INSTALLED\n"
     ]
    }
   ],
   "source": [
    "import pandas as pd\n",
    "import numpy as np\n",
    "\n",
    "import matplotlib.pyplot as plt\n",
    "import matplotlib.cm as cm\n",
    "import seaborn as sn\n",
    "import zipfile\n",
    "\n",
    "\n",
    "import os\n",
    "import glob\n",
    "from pathlib import Path\n",
    "\n",
    "import math\n",
    "import re\n",
    "import shutil\n",
    "\n",
    "from collections import Counter\n",
    "from itertools import cycle, islice\n",
    "\n",
    "from PIL import Image\n",
    "from sys import argv\n",
    "from warnings import filterwarnings\n",
    "filterwarnings(\"ignore\")"
   ]
  },
  {
   "cell_type": "markdown",
   "metadata": {},
   "source": [
    "### Load JSON file to dictionary "
   ]
  },
  {
   "cell_type": "code",
   "execution_count": 2,
   "metadata": {},
   "outputs": [
    {
     "data": {
      "text/plain": [
       "6"
      ]
     },
     "execution_count": 2,
     "metadata": {},
     "output_type": "execute_result"
    }
   ],
   "source": [
    "import json\n",
    "\n",
    "with open(\"instances_attributes_train2020.json\", \"r\") as json_file:\n",
    "    train_labels = json.load(json_file)\n",
    "    \n",
    "len(train_labels)"
   ]
  },
  {
   "cell_type": "code",
   "execution_count": 3,
   "metadata": {},
   "outputs": [
    {
     "name": "stdout",
     "output_type": "stream",
     "text": [
      "360\n"
     ]
    }
   ],
   "source": [
    "#check dictionary size in bytes\n",
    "import sys\n",
    "size = sys.getsizeof(train_labels)\n",
    "print(size)"
   ]
  },
  {
   "cell_type": "code",
   "execution_count": 4,
   "metadata": {},
   "outputs": [
    {
     "name": "stdout",
     "output_type": "stream",
     "text": [
      "annotations 11\n",
      "images 6\n",
      "info 4\n",
      "licenses 8\n",
      "categories 10\n",
      "attributes 10\n"
     ]
    }
   ],
   "source": [
    "#iterate through dictionary to identify keys\n",
    "for keys, values in train_labels.items():\n",
    "    print(keys, len(keys))\n",
    "    #print(keys, values)"
   ]
  },
  {
   "cell_type": "markdown",
   "metadata": {},
   "source": [
    "#### Make a dictionary of image id's and their names so as to use this image id to map them to the image names when saving txt files for annotations "
   ]
  },
  {
   "cell_type": "code",
   "execution_count": 5,
   "metadata": {},
   "outputs": [],
   "source": [
    "image_name_dict = {}\n",
    "\n",
    "#print(len(train_labels[\"images\"]))\n",
    "for names in train_labels[\"images\"]:\n",
    "    #print(names)\n",
    "    #print(names[\"kaggle_id\"], names[\"id\"])\n",
    "    image_name_dict[names[\"id\"]] = names[\"kaggle_id\"]"
   ]
  },
  {
   "cell_type": "code",
   "execution_count": 6,
   "metadata": {},
   "outputs": [
    {
     "name": "stdout",
     "output_type": "stream",
     "text": [
      "45623\n"
     ]
    }
   ],
   "source": [
    "#we can confirm froim below that the length of the dictionary is the same a count of images\n",
    "print(len(image_name_dict))"
   ]
  },
  {
   "cell_type": "markdown",
   "metadata": {},
   "source": [
    "### Extract annotations from the main dictionary to a list which contains dictionaries "
   ]
  },
  {
   "cell_type": "code",
   "execution_count": 7,
   "metadata": {},
   "outputs": [
    {
     "name": "stdout",
     "output_type": "stream",
     "text": [
      "333401\n",
      "[{'image_id': 16305, 'category_id': 32, 'attribute_ids': [218], 'segmentation': [[471, 390, 461, 412, 457, 430, 454, 455, 454, 473, 457, 483, 469, 489, 477, 492, 485, 498, 493, 499, 499, 496, 500, 490, 494, 479, 487, 461, 485, 445, 483, 434, 487, 433, 489, 426, 489, 412, 484, 403, 480, 395, 477, 392]], 'bbox': [454.0, 390.0, 46.0, 109.0], 'area': 3052, 'iscrowd': 0, 'id': 0}, {'image_id': 16305, 'category_id': 31, 'attribute_ids': [204, 205, 159], 'segmentation': [[334, 329, 344, 307, 348, 293, 354, 282, 365, 273, 357, 265, 355, 261, 351, 252, 346, 246, 343, 243, 345, 236, 343, 225, 339, 212, 335, 197, 332, 191, 331, 189, 335, 185, 336, 183, 339, 184, 344, 184, 350, 181, 359, 177, 369, 172, 368, 165, 365, 154, 361, 148, 357, 145, 353, 144, 351, 140, 348, 136, 347, 133, 342, 135, 340, 137, 326, 139, 320, 140, 312, 142, 303, 144, 290, 145, 278, 148, 274, 151, 272, 154, 271, 184, 273, 211, 275, 223, 275, 235, 281, 246, 284, 256, 288, 266, 291, 280, 294, 287, 301, 311, 305, 324, 308, 338, 310, 349, 313, 356, 321, 351, 326, 345]], 'bbox': [271.0, 133.0, 98.0, 223.0], 'area': 12906, 'iscrowd': 0, 'id': 1}]\n",
      "16305 [454.0, 390.0, 46.0, 109.0]\n"
     ]
    }
   ],
   "source": [
    "#print(len(list(train_labels[\"annotations\"])))\n",
    "\n",
    "anns = list(train_labels[\"annotations\"])\n",
    "print(len(anns))\n",
    "print(anns[:2])\n",
    "print(anns[0][\"image_id\"], anns[0][\"bbox\"])"
   ]
  },
  {
   "cell_type": "markdown",
   "metadata": {},
   "source": [
    "### Create new dict to save image_id as keys then save the bboxes as list of lists for each image that has more than one label"
   ]
  },
  {
   "cell_type": "code",
   "execution_count": 8,
   "metadata": {},
   "outputs": [
    {
     "data": {
      "text/html": [
       "<div>\n",
       "<style scoped>\n",
       "    .dataframe tbody tr th:only-of-type {\n",
       "        vertical-align: middle;\n",
       "    }\n",
       "\n",
       "    .dataframe tbody tr th {\n",
       "        vertical-align: top;\n",
       "    }\n",
       "\n",
       "    .dataframe thead th {\n",
       "        text-align: right;\n",
       "    }\n",
       "</style>\n",
       "<table border=\"1\" class=\"dataframe\">\n",
       "  <thead>\n",
       "    <tr style=\"text-align: right;\">\n",
       "      <th></th>\n",
       "      <th>Image_name</th>\n",
       "      <th>bbox</th>\n",
       "      <th>category</th>\n",
       "    </tr>\n",
       "  </thead>\n",
       "  <tbody>\n",
       "    <tr>\n",
       "      <th>0</th>\n",
       "      <td>2f10b4d61e445fe5d0777723630a2905</td>\n",
       "      <td>[32, 454.0, 390.0, 46.0, 109.0]</td>\n",
       "      <td>32</td>\n",
       "    </tr>\n",
       "    <tr>\n",
       "      <th>1</th>\n",
       "      <td>2f10b4d61e445fe5d0777723630a2905</td>\n",
       "      <td>[31, 271.0, 133.0, 98.0, 223.0]</td>\n",
       "      <td>31</td>\n",
       "    </tr>\n",
       "    <tr>\n",
       "      <th>2</th>\n",
       "      <td>2f10b4d61e445fe5d0777723630a2905</td>\n",
       "      <td>[31, 482.0, 323.0, 74.0, 169.0]</td>\n",
       "      <td>31</td>\n",
       "    </tr>\n",
       "    <tr>\n",
       "      <th>3</th>\n",
       "      <td>2f10b4d61e445fe5d0777723630a2905</td>\n",
       "      <td>[22, 322.0, 658.0, 208.0, 112.0]</td>\n",
       "      <td>22</td>\n",
       "    </tr>\n",
       "    <tr>\n",
       "      <th>4</th>\n",
       "      <td>2f10b4d61e445fe5d0777723630a2905</td>\n",
       "      <td>[22, 405.0, 749.0, 97.0, 213.0]</td>\n",
       "      <td>22</td>\n",
       "    </tr>\n",
       "    <tr>\n",
       "      <th>...</th>\n",
       "      <td>...</td>\n",
       "      <td>...</td>\n",
       "      <td>...</td>\n",
       "    </tr>\n",
       "    <tr>\n",
       "      <th>333396</th>\n",
       "      <td>5a70d25b564a0df8b71d6db8d61d1bfe</td>\n",
       "      <td>[1, 149.0, 26.0, 515.0, 920.0]</td>\n",
       "      <td>1</td>\n",
       "    </tr>\n",
       "    <tr>\n",
       "      <th>333397</th>\n",
       "      <td>f51fb0808a58a13672f05cfc6b732459</td>\n",
       "      <td>[21, 424.0, 603.0, 34.0, 65.0]</td>\n",
       "      <td>21</td>\n",
       "    </tr>\n",
       "    <tr>\n",
       "      <th>333398</th>\n",
       "      <td>f51fb0808a58a13672f05cfc6b732459</td>\n",
       "      <td>[21, 488.0, 605.0, 36.0, 60.0]</td>\n",
       "      <td>21</td>\n",
       "    </tr>\n",
       "    <tr>\n",
       "      <th>333399</th>\n",
       "      <td>f51fb0808a58a13672f05cfc6b732459</td>\n",
       "      <td>[23, 426.0, 662.0, 31.0, 19.0]</td>\n",
       "      <td>23</td>\n",
       "    </tr>\n",
       "    <tr>\n",
       "      <th>333400</th>\n",
       "      <td>f51fb0808a58a13672f05cfc6b732459</td>\n",
       "      <td>[23, 488.0, 656.0, 30.0, 25.0]</td>\n",
       "      <td>23</td>\n",
       "    </tr>\n",
       "  </tbody>\n",
       "</table>\n",
       "<p>333401 rows × 3 columns</p>\n",
       "</div>"
      ],
      "text/plain": [
       "                              Image_name                              bbox  \\\n",
       "0       2f10b4d61e445fe5d0777723630a2905   [32, 454.0, 390.0, 46.0, 109.0]   \n",
       "1       2f10b4d61e445fe5d0777723630a2905   [31, 271.0, 133.0, 98.0, 223.0]   \n",
       "2       2f10b4d61e445fe5d0777723630a2905   [31, 482.0, 323.0, 74.0, 169.0]   \n",
       "3       2f10b4d61e445fe5d0777723630a2905  [22, 322.0, 658.0, 208.0, 112.0]   \n",
       "4       2f10b4d61e445fe5d0777723630a2905   [22, 405.0, 749.0, 97.0, 213.0]   \n",
       "...                                  ...                               ...   \n",
       "333396  5a70d25b564a0df8b71d6db8d61d1bfe    [1, 149.0, 26.0, 515.0, 920.0]   \n",
       "333397  f51fb0808a58a13672f05cfc6b732459    [21, 424.0, 603.0, 34.0, 65.0]   \n",
       "333398  f51fb0808a58a13672f05cfc6b732459    [21, 488.0, 605.0, 36.0, 60.0]   \n",
       "333399  f51fb0808a58a13672f05cfc6b732459    [23, 426.0, 662.0, 31.0, 19.0]   \n",
       "333400  f51fb0808a58a13672f05cfc6b732459    [23, 488.0, 656.0, 30.0, 25.0]   \n",
       "\n",
       "        category  \n",
       "0             32  \n",
       "1             31  \n",
       "2             31  \n",
       "3             22  \n",
       "4             22  \n",
       "...          ...  \n",
       "333396         1  \n",
       "333397        21  \n",
       "333398        21  \n",
       "333399        23  \n",
       "333400        23  \n",
       "\n",
       "[333401 rows x 3 columns]"
      ]
     },
     "execution_count": 8,
     "metadata": {},
     "output_type": "execute_result"
    }
   ],
   "source": [
    "\n",
    "new_dict = {}\n",
    "dataframe_list = []  #initialize list to save all image names, bbox and category to make a dataframe\n",
    "\n",
    "for row in anns:\n",
    "    #print(row.keys())\n",
    "    image_id, bbox, cat = row[\"image_id\"], row[\"bbox\"], row[\"category_id\"]\n",
    "    #print(image_name, bbox, cat)\n",
    "    dataframe_list.append([image_name_dict[image_id], bbox, cat])\n",
    "    #insert category to first index in bbox list to save the category along with the annotations\n",
    "    bbox.insert(0, cat)\n",
    "    #check if the new dictionary is empty\n",
    "    if not new_dict:\n",
    "        new_dict[image_name_dict[image_id]] = [bbox]  #save the bbox into the new dictionary by mapping image id to image name\n",
    "    else:\n",
    "        #if image name already in dictionary keys, append new list  of bbox and category to the list\n",
    "        if image_name_dict[image_id] in new_dict.keys():\n",
    "            new_dict[image_name_dict[image_id]].append(bbox)\n",
    "        else:\n",
    "            new_dict[image_name_dict[image_id]] = [bbox]\n",
    "    #print(bbox)\n",
    "\n",
    "    \n",
    "#save annotations to txt files in YOLO format\n",
    "for filename, lists in new_dict.items():\n",
    "    with open(f\"annotations_yolo/{filename}\" + '.txt', 'w') as f:\n",
    "        for lst in lists:\n",
    "            # Convert each item in the inner list to a string\n",
    "            string_list = [str(item) for item in lst]\n",
    "            f.write(' '.join(string_list) + '\\n')\n",
    "            \n",
    "\n",
    "# Create the pandas DataFrame\n",
    "df = pd.DataFrame(dataframe_list)\n",
    "\n",
    "# Specify column names if necessary\n",
    "df.columns = ['Image_name', 'bbox', 'category']\n",
    "df"
   ]
  },
  {
   "cell_type": "code",
   "execution_count": null,
   "metadata": {},
   "outputs": [],
   "source": []
  },
  {
   "cell_type": "code",
   "execution_count": 20,
   "metadata": {},
   "outputs": [
    {
     "data": {
      "text/html": [
       "<div>\n",
       "<style scoped>\n",
       "    .dataframe tbody tr th:only-of-type {\n",
       "        vertical-align: middle;\n",
       "    }\n",
       "\n",
       "    .dataframe tbody tr th {\n",
       "        vertical-align: top;\n",
       "    }\n",
       "\n",
       "    .dataframe thead th {\n",
       "        text-align: right;\n",
       "    }\n",
       "</style>\n",
       "<table border=\"1\" class=\"dataframe\">\n",
       "  <thead>\n",
       "    <tr style=\"text-align: right;\">\n",
       "      <th></th>\n",
       "      <th>Image_name</th>\n",
       "      <th>bbox</th>\n",
       "      <th>category</th>\n",
       "      <th>category_names</th>\n",
       "    </tr>\n",
       "  </thead>\n",
       "  <tbody>\n",
       "    <tr>\n",
       "      <th>0</th>\n",
       "      <td>2f10b4d61e445fe5d0777723630a2905</td>\n",
       "      <td>[32, 454.0, 390.0, 46.0, 109.0]</td>\n",
       "      <td>32</td>\n",
       "      <td>pocket</td>\n",
       "    </tr>\n",
       "    <tr>\n",
       "      <th>1</th>\n",
       "      <td>2f10b4d61e445fe5d0777723630a2905</td>\n",
       "      <td>[31, 271.0, 133.0, 98.0, 223.0]</td>\n",
       "      <td>31</td>\n",
       "      <td>sleeve</td>\n",
       "    </tr>\n",
       "    <tr>\n",
       "      <th>2</th>\n",
       "      <td>2f10b4d61e445fe5d0777723630a2905</td>\n",
       "      <td>[31, 482.0, 323.0, 74.0, 169.0]</td>\n",
       "      <td>31</td>\n",
       "      <td>sleeve</td>\n",
       "    </tr>\n",
       "    <tr>\n",
       "      <th>3</th>\n",
       "      <td>2f10b4d61e445fe5d0777723630a2905</td>\n",
       "      <td>[22, 322.0, 658.0, 208.0, 112.0]</td>\n",
       "      <td>22</td>\n",
       "      <td>sock</td>\n",
       "    </tr>\n",
       "    <tr>\n",
       "      <th>4</th>\n",
       "      <td>2f10b4d61e445fe5d0777723630a2905</td>\n",
       "      <td>[22, 405.0, 749.0, 97.0, 213.0]</td>\n",
       "      <td>22</td>\n",
       "      <td>sock</td>\n",
       "    </tr>\n",
       "    <tr>\n",
       "      <th>...</th>\n",
       "      <td>...</td>\n",
       "      <td>...</td>\n",
       "      <td>...</td>\n",
       "      <td>...</td>\n",
       "    </tr>\n",
       "    <tr>\n",
       "      <th>333396</th>\n",
       "      <td>5a70d25b564a0df8b71d6db8d61d1bfe</td>\n",
       "      <td>[1, 149.0, 26.0, 515.0, 920.0]</td>\n",
       "      <td>1</td>\n",
       "      <td>top</td>\n",
       "    </tr>\n",
       "    <tr>\n",
       "      <th>333397</th>\n",
       "      <td>f51fb0808a58a13672f05cfc6b732459</td>\n",
       "      <td>[21, 424.0, 603.0, 34.0, 65.0]</td>\n",
       "      <td>21</td>\n",
       "      <td>tights</td>\n",
       "    </tr>\n",
       "    <tr>\n",
       "      <th>333398</th>\n",
       "      <td>f51fb0808a58a13672f05cfc6b732459</td>\n",
       "      <td>[21, 488.0, 605.0, 36.0, 60.0]</td>\n",
       "      <td>21</td>\n",
       "      <td>tights</td>\n",
       "    </tr>\n",
       "    <tr>\n",
       "      <th>333399</th>\n",
       "      <td>f51fb0808a58a13672f05cfc6b732459</td>\n",
       "      <td>[23, 426.0, 662.0, 31.0, 19.0]</td>\n",
       "      <td>23</td>\n",
       "      <td>shoe</td>\n",
       "    </tr>\n",
       "    <tr>\n",
       "      <th>333400</th>\n",
       "      <td>f51fb0808a58a13672f05cfc6b732459</td>\n",
       "      <td>[23, 488.0, 656.0, 30.0, 25.0]</td>\n",
       "      <td>23</td>\n",
       "      <td>shoe</td>\n",
       "    </tr>\n",
       "  </tbody>\n",
       "</table>\n",
       "<p>333401 rows × 4 columns</p>\n",
       "</div>"
      ],
      "text/plain": [
       "                              Image_name                              bbox  \\\n",
       "0       2f10b4d61e445fe5d0777723630a2905   [32, 454.0, 390.0, 46.0, 109.0]   \n",
       "1       2f10b4d61e445fe5d0777723630a2905   [31, 271.0, 133.0, 98.0, 223.0]   \n",
       "2       2f10b4d61e445fe5d0777723630a2905   [31, 482.0, 323.0, 74.0, 169.0]   \n",
       "3       2f10b4d61e445fe5d0777723630a2905  [22, 322.0, 658.0, 208.0, 112.0]   \n",
       "4       2f10b4d61e445fe5d0777723630a2905   [22, 405.0, 749.0, 97.0, 213.0]   \n",
       "...                                  ...                               ...   \n",
       "333396  5a70d25b564a0df8b71d6db8d61d1bfe    [1, 149.0, 26.0, 515.0, 920.0]   \n",
       "333397  f51fb0808a58a13672f05cfc6b732459    [21, 424.0, 603.0, 34.0, 65.0]   \n",
       "333398  f51fb0808a58a13672f05cfc6b732459    [21, 488.0, 605.0, 36.0, 60.0]   \n",
       "333399  f51fb0808a58a13672f05cfc6b732459    [23, 426.0, 662.0, 31.0, 19.0]   \n",
       "333400  f51fb0808a58a13672f05cfc6b732459    [23, 488.0, 656.0, 30.0, 25.0]   \n",
       "\n",
       "        category category_names  \n",
       "0             32         pocket  \n",
       "1             31         sleeve  \n",
       "2             31         sleeve  \n",
       "3             22           sock  \n",
       "4             22           sock  \n",
       "...          ...            ...  \n",
       "333396         1            top  \n",
       "333397        21         tights  \n",
       "333398        21         tights  \n",
       "333399        23           shoe  \n",
       "333400        23           shoe  \n",
       "\n",
       "[333401 rows x 4 columns]"
      ]
     },
     "execution_count": 20,
     "metadata": {},
     "output_type": "execute_result"
    }
   ],
   "source": [
    "#add category names\n",
    "cat_dict = {}\n",
    "\n",
    "for row in list(train_labels[\"categories\"]):\n",
    "    #print(row[\"id\"], row[\"name\"].split(\",\")[0])\n",
    "    cat_dict[row[\"id\"]] = row[\"name\"].split(\",\")[0]\n",
    "    \n",
    "# Create new column 'category_names' by mapping 'category' to 'category_dict'\n",
    "df['category_names'] = df['category'].map(cat_dict)\n",
    "df"
   ]
  },
  {
   "cell_type": "code",
   "execution_count": null,
   "metadata": {},
   "outputs": [],
   "source": []
  },
  {
   "cell_type": "code",
   "execution_count": 21,
   "metadata": {},
   "outputs": [],
   "source": [
    "def plot_col(df, col_name, types):\n",
    "    \"\"\"\n",
    "    Function to plot chart based on column name\n",
    "    Input parameters:- \n",
    "    df = dataframe\n",
    "    col_name = column name\n",
    "    types = type of plot (pie, box, bar)\"\"\"\n",
    "    plt.figure(figsize=(12, 7))\n",
    "    \n",
    "    cmap = cm.get_cmap('RdYlGn')\n",
    "    \n",
    "    \n",
    "    image =  df[col_name].value_counts().plot(kind=types, colormap = cmap)\n",
    "    sn.distplot(df[col_name].value_counts())\n",
    "    image.figure.savefig(f\"{col_name}.jpg\")\n",
    "    \n",
    "    return image"
   ]
  },
  {
   "cell_type": "code",
   "execution_count": 23,
   "metadata": {},
   "outputs": [
    {
     "data": {
      "text/plain": [
       "sleeve        59448\n",
       "shoe          46374\n",
       "neckline      34258\n",
       "pocket        27179\n",
       "dress         18739\n",
       "top           16548\n",
       "pants         12414\n",
       "collar        10159\n",
       "zipper         7991\n",
       "jacket         7833\n",
       "bag            7217\n",
       "belt           6851\n",
       "shirt          6161\n",
       "lapel          5972\n",
       "bead           5084\n",
       "skirt          5046\n",
       "rivet          4893\n",
       "glasses        4855\n",
       "tights         4326\n",
       "applique       3529\n",
       "headband       3470\n",
       "watch          3389\n",
       "buckle         3300\n",
       "coat           3124\n",
       "shorts         2756\n",
       "sock           2582\n",
       "hat            2518\n",
       "ruffle         2407\n",
       "sweater        1494\n",
       "tie            1457\n",
       "glove          1385\n",
       "scarf          1374\n",
       "flower         1367\n",
       "hood           1226\n",
       "cardigan       1107\n",
       "sequin          929\n",
       "jumpsuit        922\n",
       "epaulette       874\n",
       "vest            719\n",
       "fringe          588\n",
       "bow             528\n",
       "tassel          335\n",
       "ribbon          274\n",
       "cape            152\n",
       "umbrella        135\n",
       "leg warmer      112\n",
       "Name: category_names, dtype: int64"
      ]
     },
     "execution_count": 23,
     "metadata": {},
     "output_type": "execute_result"
    }
   ],
   "source": [
    "df.category_names.value_counts()"
   ]
  },
  {
   "cell_type": "code",
   "execution_count": 22,
   "metadata": {},
   "outputs": [
    {
     "data": {
      "text/plain": [
       "<AxesSubplot:xlabel='category_names', ylabel='Density'>"
      ]
     },
     "execution_count": 22,
     "metadata": {},
     "output_type": "execute_result"
    },
    {
     "data": {
      "image/png": "[encoded data removed]",
      "text/plain": [
       "<Figure size 864x504 with 1 Axes>"
      ]
     },
     "metadata": {
      "needs_background": "light"
     },
     "output_type": "display_data"
    }
   ],
   "source": [
    "plot_col(df, \"category_names\", \"bar\")"
   ]
  },
  {
   "cell_type": "code",
   "execution_count": null,
   "metadata": {},
   "outputs": [],
   "source": []
  },
  {
   "cell_type": "code",
   "execution_count": null,
   "metadata": {},
   "outputs": [],
   "source": []
  },
  {
   "cell_type": "code",
   "execution_count": null,
   "metadata": {},
   "outputs": [],
   "source": []
  },
  {
   "cell_type": "code",
   "execution_count": null,
   "metadata": {},
   "outputs": [],
   "source": []
  },
  {
   "cell_type": "code",
   "execution_count": null,
   "metadata": {},
   "outputs": [],
   "source": []
  },
  {
   "cell_type": "code",
   "execution_count": null,
   "metadata": {},
   "outputs": [],
   "source": []
  },
  {
   "cell_type": "code",
   "execution_count": 18,
   "metadata": {},
   "outputs": [
    {
     "name": "stdout",
     "output_type": "stream",
     "text": [
      "0 shirt\n",
      "1 top\n",
      "2 sweater\n",
      "3 cardigan\n",
      "4 jacket\n",
      "5 vest\n",
      "6 pants\n",
      "7 shorts\n",
      "8 skirt\n",
      "9 coat\n",
      "10 dress\n",
      "11 jumpsuit\n",
      "12 cape\n",
      "13 glasses\n",
      "14 hat\n",
      "15 headband\n",
      "16 tie\n",
      "17 glove\n",
      "18 watch\n",
      "19 belt\n",
      "20 leg warmer\n",
      "21 tights\n",
      "22 sock\n",
      "23 shoe\n",
      "24 bag\n",
      "25 scarf\n",
      "26 umbrella\n",
      "27 hood\n",
      "28 collar\n",
      "29 lapel\n",
      "30 epaulette\n",
      "31 sleeve\n",
      "32 pocket\n",
      "33 neckline\n",
      "34 buckle\n",
      "35 zipper\n",
      "36 applique\n",
      "37 bead\n",
      "38 bow\n",
      "39 flower\n",
      "40 fringe\n",
      "41 ribbon\n",
      "42 rivet\n",
      "43 ruffle\n",
      "44 sequin\n",
      "45 tassel\n"
     ]
    }
   ],
   "source": []
  },
  {
   "cell_type": "code",
   "execution_count": null,
   "metadata": {},
   "outputs": [],
   "source": []
  }
 ],
 "metadata": {
  "kernelspec": {
   "display_name": "Python 3",
   "language": "python",
   "name": "python3"
  },
  "language_info": {
   "codemirror_mode": {
    "name": "ipython",
    "version": 3
   },
   "file_extension": ".py",
   "mimetype": "text/x-python",
   "name": "python",
   "nbconvert_exporter": "python",
   "pygments_lexer": "ipython3",
   "version": "3.8.5"
  }
 },
 "nbformat": 4,
 "nbformat_minor": 4
}
